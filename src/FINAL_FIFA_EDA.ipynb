{
 "cells": [
  {
   "cell_type": "markdown",
   "id": "14188e6f-a38f-42d6-8f0a-9c56490b29d7",
   "metadata": {},
   "source": [
    "## IMPORTING LIBRARIES AND DATA FRAME"
   ]
  },
  {
   "cell_type": "code",
   "execution_count": 2,
   "id": "d358c23c-690d-4e81-a330-5de5464365d9",
   "metadata": {},
   "outputs": [],
   "source": [
    "#importing packages and modules for FIFA EDA\n",
    "import numpy as np\n",
    "import pandas as pd\n",
    "import matplotlib.pyplot as plt"
   ]
  },
  {
   "cell_type": "code",
   "execution_count": 3,
   "id": "5a2f9a87-be97-478c-b2bd-16655ed0de24",
   "metadata": {},
   "outputs": [],
   "source": [
    "#importing source data frame as 'raw_df'\n",
    "raw_df=pd.read_csv('fifa_data.csv')"
   ]
  },
  {
   "cell_type": "code",
   "execution_count": 4,
   "id": "a89d8595-f61c-471b-9a52-4db445487e65",
   "metadata": {},
   "outputs": [
    {
     "data": {
      "text/plain": [
       "Index(['Unnamed: 0', 'ID', 'Name', 'Age', 'Photo', 'Nationality', 'Flag',\n",
       "       'Overall', 'Potential', 'Club', 'Club Logo', 'Value', 'Wage', 'Special',\n",
       "       'Preferred Foot', 'International Reputation', 'Weak Foot',\n",
       "       'Skill Moves', 'Work Rate', 'Body Type', 'Real Face', 'Position',\n",
       "       'Jersey Number', 'Joined', 'Loaned From', 'Contract Valid Until',\n",
       "       'Height', 'Weight', 'LS', 'ST', 'RS', 'LW', 'LF', 'CF', 'RF', 'RW',\n",
       "       'LAM', 'CAM', 'RAM', 'LM', 'LCM', 'CM', 'RCM', 'RM', 'LWB', 'LDM',\n",
       "       'CDM', 'RDM', 'RWB', 'LB', 'LCB', 'CB', 'RCB', 'RB', 'Crossing',\n",
       "       'Finishing', 'HeadingAccuracy', 'ShortPassing', 'Volleys', 'Dribbling',\n",
       "       'Curve', 'FKAccuracy', 'LongPassing', 'BallControl', 'Acceleration',\n",
       "       'SprintSpeed', 'Agility', 'Reactions', 'Balance', 'ShotPower',\n",
       "       'Jumping', 'Stamina', 'Strength', 'LongShots', 'Aggression',\n",
       "       'Interceptions', 'Positioning', 'Vision', 'Penalties', 'Composure',\n",
       "       'Marking', 'StandingTackle', 'SlidingTackle', 'GKDiving', 'GKHandling',\n",
       "       'GKKicking', 'GKPositioning', 'GKReflexes', 'Release Clause'],\n",
       "      dtype='object')"
      ]
     },
     "execution_count": 4,
     "metadata": {},
     "output_type": "execute_result"
    }
   ],
   "source": [
    "raw_df.columns"
   ]
  },
  {
   "cell_type": "code",
   "execution_count": 5,
   "id": "dc3624c8-0119-49ae-ad9d-51c4c733a635",
   "metadata": {},
   "outputs": [],
   "source": [
    "#creating data frame 'fifa_df' by extracting columns specifically needed for the EDA from 'raw_df' \n",
    "fifa_df=raw_df[['Name','Nationality','Club','Wage','Preferred Foot','Height']]"
   ]
  },
  {
   "cell_type": "code",
   "execution_count": 6,
   "id": "c6386755-09b3-4617-9b94-4ee81f2dac68",
   "metadata": {},
   "outputs": [
    {
     "data": {
      "text/plain": [
       "18207"
      ]
     },
     "execution_count": 6,
     "metadata": {},
     "output_type": "execute_result"
    }
   ],
   "source": [
    "fifa_df.shape[0]"
   ]
  },
  {
   "cell_type": "code",
   "execution_count": 7,
   "id": "af171c46-1b39-4e2f-9ebd-b66ae0c86c39",
   "metadata": {},
   "outputs": [
    {
     "data": {
      "text/html": [
       "<div>\n",
       "<style scoped>\n",
       "    .dataframe tbody tr th:only-of-type {\n",
       "        vertical-align: middle;\n",
       "    }\n",
       "\n",
       "    .dataframe tbody tr th {\n",
       "        vertical-align: top;\n",
       "    }\n",
       "\n",
       "    .dataframe thead th {\n",
       "        text-align: right;\n",
       "    }\n",
       "</style>\n",
       "<table border=\"1\" class=\"dataframe\">\n",
       "  <thead>\n",
       "    <tr style=\"text-align: right;\">\n",
       "      <th></th>\n",
       "      <th>Name</th>\n",
       "      <th>Nationality</th>\n",
       "      <th>Club</th>\n",
       "      <th>Wage</th>\n",
       "      <th>Preferred Foot</th>\n",
       "      <th>Height</th>\n",
       "    </tr>\n",
       "  </thead>\n",
       "  <tbody>\n",
       "    <tr>\n",
       "      <th>0</th>\n",
       "      <td>L. Messi</td>\n",
       "      <td>Argentina</td>\n",
       "      <td>FC Barcelona</td>\n",
       "      <td>€565K</td>\n",
       "      <td>Left</td>\n",
       "      <td>5'7</td>\n",
       "    </tr>\n",
       "    <tr>\n",
       "      <th>1</th>\n",
       "      <td>Cristiano Ronaldo</td>\n",
       "      <td>Portugal</td>\n",
       "      <td>Juventus</td>\n",
       "      <td>€405K</td>\n",
       "      <td>Right</td>\n",
       "      <td>6'2</td>\n",
       "    </tr>\n",
       "    <tr>\n",
       "      <th>2</th>\n",
       "      <td>Neymar Jr</td>\n",
       "      <td>Brazil</td>\n",
       "      <td>Paris Saint-Germain</td>\n",
       "      <td>€290K</td>\n",
       "      <td>Right</td>\n",
       "      <td>5'9</td>\n",
       "    </tr>\n",
       "    <tr>\n",
       "      <th>3</th>\n",
       "      <td>De Gea</td>\n",
       "      <td>Spain</td>\n",
       "      <td>Manchester United</td>\n",
       "      <td>€260K</td>\n",
       "      <td>Right</td>\n",
       "      <td>6'4</td>\n",
       "    </tr>\n",
       "    <tr>\n",
       "      <th>4</th>\n",
       "      <td>K. De Bruyne</td>\n",
       "      <td>Belgium</td>\n",
       "      <td>Manchester City</td>\n",
       "      <td>€355K</td>\n",
       "      <td>Right</td>\n",
       "      <td>5'11</td>\n",
       "    </tr>\n",
       "  </tbody>\n",
       "</table>\n",
       "</div>"
      ],
      "text/plain": [
       "                Name Nationality                 Club   Wage Preferred Foot  \\\n",
       "0           L. Messi   Argentina         FC Barcelona  €565K           Left   \n",
       "1  Cristiano Ronaldo    Portugal             Juventus  €405K          Right   \n",
       "2          Neymar Jr      Brazil  Paris Saint-Germain  €290K          Right   \n",
       "3             De Gea       Spain    Manchester United  €260K          Right   \n",
       "4       K. De Bruyne     Belgium      Manchester City  €355K          Right   \n",
       "\n",
       "  Height  \n",
       "0    5'7  \n",
       "1    6'2  \n",
       "2    5'9  \n",
       "3    6'4  \n",
       "4   5'11  "
      ]
     },
     "execution_count": 7,
     "metadata": {},
     "output_type": "execute_result"
    }
   ],
   "source": [
    "fifa_df.head()"
   ]
  },
  {
   "cell_type": "markdown",
   "id": "f121a8df-099b-457e-ab50-a2d897f9a913",
   "metadata": {},
   "source": [
    "## <hr>"
   ]
  },
  {
   "cell_type": "markdown",
   "id": "9607e6cb-4173-4719-a0b8-5ebbfe513066",
   "metadata": {},
   "source": [
    "## DATA CLEANING"
   ]
  },
  {
   "cell_type": "code",
   "execution_count": 8,
   "id": "9e31bbaf-5918-46e2-a347-195e4d77becf",
   "metadata": {},
   "outputs": [
    {
     "data": {
      "text/plain": [
       "Name                0\n",
       "Nationality         0\n",
       "Club              241\n",
       "Wage                0\n",
       "Preferred Foot     48\n",
       "Height             48\n",
       "dtype: int64"
      ]
     },
     "execution_count": 8,
     "metadata": {},
     "output_type": "execute_result"
    }
   ],
   "source": [
    "#Checking for missing values in data frame\n",
    "fifa_df.isnull().sum()"
   ]
  },
  {
   "cell_type": "code",
   "execution_count": 9,
   "id": "452494fb-8b5d-44c1-ad08-1cae9b461af0",
   "metadata": {},
   "outputs": [
    {
     "name": "stdout",
     "output_type": "stream",
     "text": [
      "<class 'pandas.core.frame.DataFrame'>\n",
      "RangeIndex: 18207 entries, 0 to 18206\n",
      "Data columns (total 6 columns):\n",
      " #   Column          Non-Null Count  Dtype \n",
      "---  ------          --------------  ----- \n",
      " 0   Name            18207 non-null  object\n",
      " 1   Nationality     18207 non-null  object\n",
      " 2   Club            17966 non-null  object\n",
      " 3   Wage            18207 non-null  object\n",
      " 4   Preferred Foot  18159 non-null  object\n",
      " 5   Height          18159 non-null  object\n",
      "dtypes: object(6)\n",
      "memory usage: 853.6+ KB\n"
     ]
    }
   ],
   "source": [
    "#checking for data types of columns\n",
    "fifa_df.info()"
   ]
  },
  {
   "cell_type": "code",
   "execution_count": 10,
   "id": "62ce40ce-731b-4ef1-ae7d-335c65e93ab5",
   "metadata": {},
   "outputs": [],
   "source": [
    "#converting and formating wages of type'object' to 'int'\n",
    "def convert_wages(wage):\n",
    "    wage=wage.replace('€','').replace('K','')\n",
    "    return int(wage)*1000\n",
    "\n",
    "#fifa_df['Wage']=fifa_df['Wage'].apply(convert_wages)\n",
    "fifa_df.loc[:, 'Wage'] = fifa_df['Wage'].apply(convert_wages)"
   ]
  },
  {
   "cell_type": "code",
   "execution_count": 11,
   "id": "c25db40a-8adb-4ac2-a9c3-eade795af33d",
   "metadata": {},
   "outputs": [
    {
     "data": {
      "text/html": [
       "<div>\n",
       "<style scoped>\n",
       "    .dataframe tbody tr th:only-of-type {\n",
       "        vertical-align: middle;\n",
       "    }\n",
       "\n",
       "    .dataframe tbody tr th {\n",
       "        vertical-align: top;\n",
       "    }\n",
       "\n",
       "    .dataframe thead th {\n",
       "        text-align: right;\n",
       "    }\n",
       "</style>\n",
       "<table border=\"1\" class=\"dataframe\">\n",
       "  <thead>\n",
       "    <tr style=\"text-align: right;\">\n",
       "      <th></th>\n",
       "      <th>Name</th>\n",
       "      <th>Nationality</th>\n",
       "      <th>Club</th>\n",
       "      <th>Wage</th>\n",
       "      <th>Preferred Foot</th>\n",
       "      <th>Height</th>\n",
       "    </tr>\n",
       "  </thead>\n",
       "  <tbody>\n",
       "    <tr>\n",
       "      <th>0</th>\n",
       "      <td>L. Messi</td>\n",
       "      <td>Argentina</td>\n",
       "      <td>FC Barcelona</td>\n",
       "      <td>565000</td>\n",
       "      <td>Left</td>\n",
       "      <td>5'7</td>\n",
       "    </tr>\n",
       "    <tr>\n",
       "      <th>1</th>\n",
       "      <td>Cristiano Ronaldo</td>\n",
       "      <td>Portugal</td>\n",
       "      <td>Juventus</td>\n",
       "      <td>405000</td>\n",
       "      <td>Right</td>\n",
       "      <td>6'2</td>\n",
       "    </tr>\n",
       "    <tr>\n",
       "      <th>2</th>\n",
       "      <td>Neymar Jr</td>\n",
       "      <td>Brazil</td>\n",
       "      <td>Paris Saint-Germain</td>\n",
       "      <td>290000</td>\n",
       "      <td>Right</td>\n",
       "      <td>5'9</td>\n",
       "    </tr>\n",
       "    <tr>\n",
       "      <th>3</th>\n",
       "      <td>De Gea</td>\n",
       "      <td>Spain</td>\n",
       "      <td>Manchester United</td>\n",
       "      <td>260000</td>\n",
       "      <td>Right</td>\n",
       "      <td>6'4</td>\n",
       "    </tr>\n",
       "    <tr>\n",
       "      <th>4</th>\n",
       "      <td>K. De Bruyne</td>\n",
       "      <td>Belgium</td>\n",
       "      <td>Manchester City</td>\n",
       "      <td>355000</td>\n",
       "      <td>Right</td>\n",
       "      <td>5'11</td>\n",
       "    </tr>\n",
       "  </tbody>\n",
       "</table>\n",
       "</div>"
      ],
      "text/plain": [
       "                Name Nationality                 Club    Wage Preferred Foot  \\\n",
       "0           L. Messi   Argentina         FC Barcelona  565000           Left   \n",
       "1  Cristiano Ronaldo    Portugal             Juventus  405000          Right   \n",
       "2          Neymar Jr      Brazil  Paris Saint-Germain  290000          Right   \n",
       "3             De Gea       Spain    Manchester United  260000          Right   \n",
       "4       K. De Bruyne     Belgium      Manchester City  355000          Right   \n",
       "\n",
       "  Height  \n",
       "0    5'7  \n",
       "1    6'2  \n",
       "2    5'9  \n",
       "3    6'4  \n",
       "4   5'11  "
      ]
     },
     "execution_count": 11,
     "metadata": {},
     "output_type": "execute_result"
    }
   ],
   "source": [
    "fifa_df.head()"
   ]
  },
  {
   "cell_type": "code",
   "execution_count": 12,
   "id": "ebf5852a-e27d-41c0-8acb-a5fa2278f1e7",
   "metadata": {},
   "outputs": [],
   "source": [
    "#converting and formatting heights of type'object' to 'float'\n",
    "def convert_heights(height):\n",
    "    if isinstance(height, str):\n",
    "        vals=list(map(int,height.split(\"'\")))\n",
    "        inches=vals[0]*12+vals[1]\n",
    "        return inches*2.54\n",
    "    return height\n",
    "\n",
    "#fifa_df['Height']=fifa_df['Height'].apply(convert_heights)\n",
    "fifa_df.loc[:, 'Height'] = fifa_df['Height'].apply(convert_heights)"
   ]
  },
  {
   "cell_type": "code",
   "execution_count": 13,
   "id": "28435849-fbe1-4cad-94e7-956fbd9d31c5",
   "metadata": {},
   "outputs": [
    {
     "data": {
      "text/plain": [
       "Name                0\n",
       "Nationality         0\n",
       "Club              241\n",
       "Wage                0\n",
       "Preferred Foot     48\n",
       "Height             48\n",
       "dtype: int64"
      ]
     },
     "execution_count": 13,
     "metadata": {},
     "output_type": "execute_result"
    }
   ],
   "source": [
    "fifa_df.isnull().sum()"
   ]
  },
  {
   "cell_type": "code",
   "execution_count": null,
   "id": "c61f140c-43c3-465b-9700-8c93bce0334c",
   "metadata": {},
   "outputs": [],
   "source": [
    "#filling missing values in 'Height' column with mean height\n",
    "fifa_df.loc[:,'Height'] = fifa_df['Height'].fillna(fifa_df['Height'].mean())"
   ]
  },
  {
   "cell_type": "code",
   "execution_count": 15,
   "id": "39864573-69af-40e1-a727-c272feaf31fd",
   "metadata": {},
   "outputs": [],
   "source": [
    "#filling missing values in 'Preferred Foot' column with 'Unknown'\n",
    "#fifa_df['Preferred Foot']=fifa_df['Preferred Foot'].fillna('Unknown')\n",
    "fifa_df = fifa_df.fillna({'Preferred Foot': 'Unknown'})"
   ]
  },
  {
   "cell_type": "code",
   "execution_count": 16,
   "id": "6242ac42-1499-4bd2-a200-2e2ef262dc36",
   "metadata": {},
   "outputs": [],
   "source": [
    "#filling missing values in 'Club' column with 'Unknown'\n",
    "fifa_df = fifa_df.fillna({'Club': 'Unknown'})"
   ]
  },
  {
   "cell_type": "code",
   "execution_count": 17,
   "id": "6020714f-d662-4124-8a5b-70bf21e90a47",
   "metadata": {},
   "outputs": [
    {
     "data": {
      "text/plain": [
       "Name              0\n",
       "Nationality       0\n",
       "Club              0\n",
       "Wage              0\n",
       "Preferred Foot    0\n",
       "Height            0\n",
       "dtype: int64"
      ]
     },
     "execution_count": 17,
     "metadata": {},
     "output_type": "execute_result"
    }
   ],
   "source": [
    "fifa_df.isnull().sum()"
   ]
  },
  {
   "cell_type": "code",
   "execution_count": 18,
   "id": "ddff57c2-8fe3-4ecd-b933-de4013408b09",
   "metadata": {},
   "outputs": [],
   "source": [
    "fifa_df.to_csv('fifa_EDA_data.csv')"
   ]
  },
  {
   "cell_type": "markdown",
   "id": "bddf0a59-82a2-475b-9581-e3d4148e411e",
   "metadata": {},
   "source": [
    "## <hr>"
   ]
  },
  {
   "cell_type": "markdown",
   "id": "29aa9b4e-0f56-40dd-9e1d-ed7c14dfc42b",
   "metadata": {},
   "source": [
    "# ANALYSIS"
   ]
  },
  {
   "cell_type": "markdown",
   "id": "4c5bc2c2-761a-4c08-939e-946aec2e96b3",
   "metadata": {},
   "source": [
    "### 1.Which country has the most number of players (score :1)"
   ]
  },
  {
   "cell_type": "code",
   "execution_count": 19,
   "id": "196dc4bd-e716-432f-a462-23b4bd89f892",
   "metadata": {},
   "outputs": [
    {
     "name": "stdout",
     "output_type": "stream",
     "text": [
      "England has the most number of players (1662 players)\n"
     ]
    }
   ],
   "source": [
    "# Count the number of players per country\n",
    "players_count = fifa_df['Nationality'].value_counts()\n",
    "#print(players_count)\n",
    "print(f'{players_count.idxmax()} has the most number of players ({players_count.max()} players)')"
   ]
  },
  {
   "cell_type": "markdown",
   "id": "fbcb2e95-6d2f-4e06-bfc5-9166fec1e912",
   "metadata": {},
   "source": [
    "### 2.Plot a bar chart of 5 top countries with the most number of players. (score :1)"
   ]
  },
  {
   "cell_type": "code",
   "execution_count": 20,
   "id": "0f50e7c5-9af5-495e-81a6-5ba6dbd0179d",
   "metadata": {},
   "outputs": [
    {
     "data": {
      "image/png": "[encoded data removed]",
      "text/plain": [
       "<Figure size 600x300 with 1 Axes>"
      ]
     },
     "metadata": {},
     "output_type": "display_data"
    }
   ],
   "source": [
    "players_count.head(5).plot(kind='bar',figsize=(6,3))\n",
    "plt.title('Top 5 countries based on Number of Players')\n",
    "plt.ylabel('Number of Players')\n",
    "for bar, value in enumerate(players_count.head(5)):\n",
    "    plt.text(bar, value + 0.1, str(value), ha='center', va='center_baseline')\n",
    "plt.show()"
   ]
  },
  {
   "cell_type": "markdown",
   "id": "9daa576c-c272-41ca-8dfc-e4e0cf44cc2b",
   "metadata": {},
   "source": [
    "### 3.Which player has the highest salary? (score :1)"
   ]
  },
  {
   "cell_type": "code",
   "execution_count": 21,
   "id": "58c7a21b-2643-4c08-9d03-34807b529ebd",
   "metadata": {},
   "outputs": [
    {
     "name": "stdout",
     "output_type": "stream",
     "text": [
      "L. Messi is the highest paid player with a wage of 565000 euros\n"
     ]
    }
   ],
   "source": [
    "hst_paid=fifa_df.loc[fifa_df['Wage'].idxmax()]\n",
    "print(f'{hst_paid['Name']} is the highest paid player with a wage of {hst_paid['Wage']} euros')"
   ]
  },
  {
   "cell_type": "markdown",
   "id": "c109f137-e567-441e-80fc-c5fa6855919a",
   "metadata": {},
   "source": [
    "### 4.Plot a histogram to get the salary range of the players. (score :1)"
   ]
  },
  {
   "cell_type": "code",
   "execution_count": 22,
   "id": "f0e5c9d7-14d3-4c14-adcf-a187547142b9",
   "metadata": {},
   "outputs": [
    {
     "data": {
      "image/png": "[encoded data removed]",
      "text/plain": [
       "<Figure size 800x500 with 1 Axes>"
      ]
     },
     "metadata": {},
     "output_type": "display_data"
    }
   ],
   "source": [
    "plt.figure(figsize=(8, 5))\n",
    "figure, bins,bars=plt.hist(fifa_df['Wage'],bins=20, edgecolor='black')\n",
    "plt.title('Salary Range of Players')\n",
    "plt.xlabel('Salary')\n",
    "plt.ylabel('Number of Players')\n",
    "plt.xticks(np.arange(0,630000,30000),rotation=90)\n",
    "plt.bar_label(bars, fontsize=8, color='black')\n",
    "plt.show()"
   ]
  },
  {
   "cell_type": "markdown",
   "id": "69a6fec4-af59-4bfd-be38-3cb8dc0e1ee5",
   "metadata": {},
   "source": [
    "### 5.Who is the tallest player in the fifa? (score :1)"
   ]
  },
  {
   "cell_type": "code",
   "execution_count": 42,
   "id": "38b7bf73-9fe1-4ceb-89a1-fd925d8da5e3",
   "metadata": {},
   "outputs": [
    {
     "name": "stdout",
     "output_type": "stream",
     "text": [
      "T. Holý and D. Hodzic are the tallest players with a height of 205.74 cms\n"
     ]
    }
   ],
   "source": [
    "tlst_player=fifa_df.loc[fifa_df['Height']==fifa_df['Height'].max()]\n",
    "#print(tlst_player)\n",
    "print(f'{tlst_player.iloc[0]['Name']} and {tlst_player.iloc[1]['Name']} are the tallest players with a height of {tlst_player.iloc[0]['Height']} cms')"
   ]
  },
  {
   "cell_type": "markdown",
   "id": "2dd3706c-126d-4147-9880-0481672a4868",
   "metadata": {},
   "source": [
    "### 6.Which club has the most number of players? (score :1)"
   ]
  },
  {
   "cell_type": "code",
   "execution_count": 54,
   "id": "c424fd5e-ae12-49a5-bf25-0bc57d794359",
   "metadata": {},
   "outputs": [
    {
     "name": "stdout",
     "output_type": "stream",
     "text": [
      "Club\n",
      "Unknown                    241\n",
      "FC Barcelona                33\n",
      "Burnley                     33\n",
      "AS Monaco                   33\n",
      "Everton                     33\n",
      "TSG 1899 Hoffenheim         33\n",
      "Wolverhampton Wanderers     33\n",
      "Eintracht Frankfurt         33\n",
      "Southampton                 33\n",
      "Valencia CF                 33\n",
      "Newcastle United            33\n",
      "Frosinone                   33\n",
      "CD Leganés                  33\n",
      "Rayo Vallecano              33\n",
      "Cardiff City                33\n",
      "Fortuna Düsseldorf          33\n",
      "RC Celta                    33\n",
      "Empoli                      33\n",
      "Atlético Madrid             33\n",
      "Arsenal                     33\n",
      "Real Madrid                 33\n",
      "Tottenham Hotspur           33\n",
      "Manchester United           33\n",
      "Borussia Dortmund           33\n",
      "Liverpool                   33\n",
      "Chelsea                     33\n",
      "Manchester City             33\n",
      "Crystal Palace              32\n",
      "SV Werder Bremen            32\n",
      "Bournemouth                 32\n",
      "Name: count, dtype: int64\n"
     ]
    }
   ],
   "source": [
    "rows = fifa_df['Club'].value_counts().nlargest(30)\n",
    "print(rows)\n",
    "#the index '0' contains Unknown since after cleaning 241 players has 'Unknown' as their club"
   ]
  },
  {
   "cell_type": "raw",
   "id": "f5f39353-0125-48c0-a696-52e3c42fb6f5",
   "metadata": {},
   "source": [
    "there are 26 clubs with 33 players which is the largest head count from the data availiable."
   ]
  },
  {
   "cell_type": "markdown",
   "id": "ec405301-b1b5-4fda-b5c6-7efaee655234",
   "metadata": {},
   "source": [
    "### 7.Which foot is most preferred by the players?Draw a bar chart for preferred foot (score :1)"
   ]
  },
  {
   "cell_type": "code",
   "execution_count": 25,
   "id": "635f4dd4-52a9-4ec2-86e0-291d0159c0e3",
   "metadata": {},
   "outputs": [
    {
     "data": {
      "image/png": "[encoded data removed]",
      "text/plain": [
       "<Figure size 600x300 with 1 Axes>"
      ]
     },
     "metadata": {},
     "output_type": "display_data"
    }
   ],
   "source": [
    "pref_foot = fifa_df['Preferred Foot'].value_counts()\n",
    "pref_foot.plot(kind='bar',figsize=(6,3))\n",
    "plt.title('Preffered foot by players')\n",
    "plt.ylabel('Number of Players')\n",
    "for bar, value in enumerate(pref_foot):\n",
    "    plt.text(bar, value + 0.1, str(value), ha='center', va='center')\n",
    "plt.show()"
   ]
  },
  {
   "cell_type": "markdown",
   "id": "65afe2c0-bad5-494f-bf30-fcbb31cc7610",
   "metadata": {},
   "source": [
    "## <hr>"
   ]
  },
  {
   "cell_type": "markdown",
   "id": "26207b6e-fbe9-4e4b-a856-e6cdef6e015b",
   "metadata": {},
   "source": [
    "# DATA STORY / INSIGHTS"
   ]
  },
  {
   "cell_type": "markdown",
   "id": "840e8bd2-0394-42b6-8e3e-193785083100",
   "metadata": {},
   "source": [
    "### Q1.Which country has the most number of players\n",
    "### Q2.Plot a bar chart of 5 top countries with the most number of players."
   ]
  },
  {
   "cell_type": "code",
   "execution_count": 26,
   "id": "bef1f1d4-6d2b-4d6d-9c29-4b5141b63e03",
   "metadata": {},
   "outputs": [
    {
     "data": {
      "image/png": "[encoded data removed]",
      "text/plain": [
       "<Figure size 600x300 with 1 Axes>"
      ]
     },
     "metadata": {},
     "output_type": "display_data"
    }
   ],
   "source": [
    "players_count.head(5).plot(kind='bar',figsize=(6,3))\n",
    "plt.title('Top 5 countries based on Number of Players')\n",
    "plt.ylabel('Number of Players')\n",
    "for bar, value in enumerate(players_count.head(5)):\n",
    "    plt.text(bar, value + 0.1, str(value), ha='center', va='center_baseline')\n",
    "plt.show()"
   ]
  },
  {
   "cell_type": "markdown",
   "id": "fa760db9-0059-44ff-af29-db71d2f089f9",
   "metadata": {},
   "source": [
    "#### INSIGHTS: <br> The top 5 countries with the most players highlight the regions that dominate world football. These countries likely have strong national teams and are regularly featured in major international tournaments like the World Cup. Four of these countries, except Argentina, are in Europe, which may reflect various socio-economic factors such as the popularity of football in the region and the resources invested in developing players."
   ]
  },
  {
   "cell_type": "markdown",
   "id": "84b0b7e8-daad-4aa9-b2a9-c05f5d5cbc82",
   "metadata": {},
   "source": [
    "### Q3.Which player has the highest salary?"
   ]
  },
  {
   "cell_type": "code",
   "execution_count": 27,
   "id": "6808e787-62e8-43ac-9218-cce1b2e6e9d4",
   "metadata": {},
   "outputs": [
    {
     "data": {
      "text/html": [
       "<div>\n",
       "<style scoped>\n",
       "    .dataframe tbody tr th:only-of-type {\n",
       "        vertical-align: middle;\n",
       "    }\n",
       "\n",
       "    .dataframe tbody tr th {\n",
       "        vertical-align: top;\n",
       "    }\n",
       "\n",
       "    .dataframe thead th {\n",
       "        text-align: right;\n",
       "    }\n",
       "</style>\n",
       "<table border=\"1\" class=\"dataframe\">\n",
       "  <thead>\n",
       "    <tr style=\"text-align: right;\">\n",
       "      <th></th>\n",
       "      <th>Unnamed: 0</th>\n",
       "      <th>ID</th>\n",
       "      <th>Name</th>\n",
       "      <th>Age</th>\n",
       "      <th>Photo</th>\n",
       "      <th>Nationality</th>\n",
       "      <th>Flag</th>\n",
       "      <th>Overall</th>\n",
       "      <th>Potential</th>\n",
       "      <th>Club</th>\n",
       "      <th>...</th>\n",
       "      <th>Composure</th>\n",
       "      <th>Marking</th>\n",
       "      <th>StandingTackle</th>\n",
       "      <th>SlidingTackle</th>\n",
       "      <th>GKDiving</th>\n",
       "      <th>GKHandling</th>\n",
       "      <th>GKKicking</th>\n",
       "      <th>GKPositioning</th>\n",
       "      <th>GKReflexes</th>\n",
       "      <th>Release Clause</th>\n",
       "    </tr>\n",
       "  </thead>\n",
       "  <tbody>\n",
       "    <tr>\n",
       "      <th>0</th>\n",
       "      <td>0</td>\n",
       "      <td>158023</td>\n",
       "      <td>L. Messi</td>\n",
       "      <td>31</td>\n",
       "      <td>https://cdn.sofifa.org/players/4/19/158023.png</td>\n",
       "      <td>Argentina</td>\n",
       "      <td>https://cdn.sofifa.org/flags/52.png</td>\n",
       "      <td>94</td>\n",
       "      <td>94</td>\n",
       "      <td>FC Barcelona</td>\n",
       "      <td>...</td>\n",
       "      <td>96.0</td>\n",
       "      <td>33.0</td>\n",
       "      <td>28.0</td>\n",
       "      <td>26.0</td>\n",
       "      <td>6.0</td>\n",
       "      <td>11.0</td>\n",
       "      <td>15.0</td>\n",
       "      <td>14.0</td>\n",
       "      <td>8.0</td>\n",
       "      <td>€226.5M</td>\n",
       "    </tr>\n",
       "    <tr>\n",
       "      <th>1</th>\n",
       "      <td>1</td>\n",
       "      <td>20801</td>\n",
       "      <td>Cristiano Ronaldo</td>\n",
       "      <td>33</td>\n",
       "      <td>https://cdn.sofifa.org/players/4/19/20801.png</td>\n",
       "      <td>Portugal</td>\n",
       "      <td>https://cdn.sofifa.org/flags/38.png</td>\n",
       "      <td>94</td>\n",
       "      <td>94</td>\n",
       "      <td>Juventus</td>\n",
       "      <td>...</td>\n",
       "      <td>95.0</td>\n",
       "      <td>28.0</td>\n",
       "      <td>31.0</td>\n",
       "      <td>23.0</td>\n",
       "      <td>7.0</td>\n",
       "      <td>11.0</td>\n",
       "      <td>15.0</td>\n",
       "      <td>14.0</td>\n",
       "      <td>11.0</td>\n",
       "      <td>€127.1M</td>\n",
       "    </tr>\n",
       "  </tbody>\n",
       "</table>\n",
       "<p>2 rows × 89 columns</p>\n",
       "</div>"
      ],
      "text/plain": [
       "   Unnamed: 0      ID               Name  Age  \\\n",
       "0           0  158023           L. Messi   31   \n",
       "1           1   20801  Cristiano Ronaldo   33   \n",
       "\n",
       "                                            Photo Nationality  \\\n",
       "0  https://cdn.sofifa.org/players/4/19/158023.png   Argentina   \n",
       "1   https://cdn.sofifa.org/players/4/19/20801.png    Portugal   \n",
       "\n",
       "                                  Flag  Overall  Potential          Club  ...  \\\n",
       "0  https://cdn.sofifa.org/flags/52.png       94         94  FC Barcelona  ...   \n",
       "1  https://cdn.sofifa.org/flags/38.png       94         94      Juventus  ...   \n",
       "\n",
       "  Composure Marking StandingTackle  SlidingTackle GKDiving  GKHandling  \\\n",
       "0      96.0    33.0           28.0           26.0      6.0        11.0   \n",
       "1      95.0    28.0           31.0           23.0      7.0        11.0   \n",
       "\n",
       "   GKKicking  GKPositioning GKReflexes Release Clause  \n",
       "0       15.0           14.0        8.0        €226.5M  \n",
       "1       15.0           14.0       11.0        €127.1M  \n",
       "\n",
       "[2 rows x 89 columns]"
      ]
     },
     "execution_count": 27,
     "metadata": {},
     "output_type": "execute_result"
    }
   ],
   "source": [
    "raw_df[raw_df['Overall']==raw_df['Overall'].max()]"
   ]
  },
  {
   "cell_type": "code",
   "execution_count": 28,
   "id": "b2f76b0a-276b-474f-9f38-0b9fcd012f0b",
   "metadata": {},
   "outputs": [
    {
     "data": {
      "text/html": [
       "<div>\n",
       "<style scoped>\n",
       "    .dataframe tbody tr th:only-of-type {\n",
       "        vertical-align: middle;\n",
       "    }\n",
       "\n",
       "    .dataframe tbody tr th {\n",
       "        vertical-align: top;\n",
       "    }\n",
       "\n",
       "    .dataframe thead th {\n",
       "        text-align: right;\n",
       "    }\n",
       "</style>\n",
       "<table border=\"1\" class=\"dataframe\">\n",
       "  <thead>\n",
       "    <tr style=\"text-align: right;\">\n",
       "      <th></th>\n",
       "      <th>Unnamed: 0</th>\n",
       "      <th>ID</th>\n",
       "      <th>Name</th>\n",
       "      <th>Age</th>\n",
       "      <th>Photo</th>\n",
       "      <th>Nationality</th>\n",
       "      <th>Flag</th>\n",
       "      <th>Overall</th>\n",
       "      <th>Potential</th>\n",
       "      <th>Club</th>\n",
       "      <th>...</th>\n",
       "      <th>Composure</th>\n",
       "      <th>Marking</th>\n",
       "      <th>StandingTackle</th>\n",
       "      <th>SlidingTackle</th>\n",
       "      <th>GKDiving</th>\n",
       "      <th>GKHandling</th>\n",
       "      <th>GKKicking</th>\n",
       "      <th>GKPositioning</th>\n",
       "      <th>GKReflexes</th>\n",
       "      <th>Release Clause</th>\n",
       "    </tr>\n",
       "  </thead>\n",
       "  <tbody>\n",
       "    <tr>\n",
       "      <th>0</th>\n",
       "      <td>0</td>\n",
       "      <td>158023</td>\n",
       "      <td>L. Messi</td>\n",
       "      <td>31</td>\n",
       "      <td>https://cdn.sofifa.org/players/4/19/158023.png</td>\n",
       "      <td>Argentina</td>\n",
       "      <td>https://cdn.sofifa.org/flags/52.png</td>\n",
       "      <td>94</td>\n",
       "      <td>94</td>\n",
       "      <td>FC Barcelona</td>\n",
       "      <td>...</td>\n",
       "      <td>96.0</td>\n",
       "      <td>33.0</td>\n",
       "      <td>28.0</td>\n",
       "      <td>26.0</td>\n",
       "      <td>6.0</td>\n",
       "      <td>11.0</td>\n",
       "      <td>15.0</td>\n",
       "      <td>14.0</td>\n",
       "      <td>8.0</td>\n",
       "      <td>€226.5M</td>\n",
       "    </tr>\n",
       "  </tbody>\n",
       "</table>\n",
       "<p>1 rows × 89 columns</p>\n",
       "</div>"
      ],
      "text/plain": [
       "   Unnamed: 0      ID      Name  Age  \\\n",
       "0           0  158023  L. Messi   31   \n",
       "\n",
       "                                            Photo Nationality  \\\n",
       "0  https://cdn.sofifa.org/players/4/19/158023.png   Argentina   \n",
       "\n",
       "                                  Flag  Overall  Potential          Club  ...  \\\n",
       "0  https://cdn.sofifa.org/flags/52.png       94         94  FC Barcelona  ...   \n",
       "\n",
       "  Composure Marking StandingTackle  SlidingTackle GKDiving  GKHandling  \\\n",
       "0      96.0    33.0           28.0           26.0      6.0        11.0   \n",
       "\n",
       "   GKKicking  GKPositioning GKReflexes Release Clause  \n",
       "0       15.0           14.0        8.0        €226.5M  \n",
       "\n",
       "[1 rows x 89 columns]"
      ]
     },
     "execution_count": 28,
     "metadata": {},
     "output_type": "execute_result"
    }
   ],
   "source": [
    "raw_df[raw_df['Composure']==raw_df['Composure'].max()]"
   ]
  },
  {
   "cell_type": "markdown",
   "id": "9cf2cb34-f796-4e50-bf41-439108079870",
   "metadata": {},
   "source": [
    "#### INSIGHTS: <br>L. Messi has the highest composure and overall rating among the FIFA players listed in the dataset. This, along with other metrics, might be the reason for him being the highest paid FIFA player."
   ]
  },
  {
   "cell_type": "markdown",
   "id": "025ecdd2-9313-485d-a0a7-c219c3481a64",
   "metadata": {},
   "source": [
    "### 4.Plot a histogram to get the salary range of the players."
   ]
  },
  {
   "cell_type": "code",
   "execution_count": 29,
   "id": "833125f6-a59d-48b8-a4ad-df7e62156d17",
   "metadata": {},
   "outputs": [
    {
     "data": {
      "image/png": "[encoded data removed]",
      "text/plain": [
       "<Figure size 500x500 with 1 Axes>"
      ]
     },
     "metadata": {},
     "output_type": "display_data"
    }
   ],
   "source": [
    "plt.figure(figsize=(5, 5))\n",
    "figure, bins,bars=plt.hist(fifa_df['Wage'],bins=20, edgecolor='black')\n",
    "plt.title('Salary Range of Players')\n",
    "plt.xlabel('Salary')\n",
    "plt.ylabel('Number of Players')\n",
    "plt.xticks(np.arange(0,630000,30000),rotation=90)\n",
    "plt.bar_label(bars, fontsize=8, color='black')\n",
    "plt.show()"
   ]
  },
  {
   "cell_type": "markdown",
   "id": "41a7e694-e80f-4c40-ba64-34f61130bfab",
   "metadata": {},
   "source": [
    "#### INSIGHTS:<br>Approximately 90% of the total players competing in FIFA earn between 0 and 30,000 Euros. There are a few players earning more modest wages, and a few highly paid superstars."
   ]
  },
  {
   "cell_type": "markdown",
   "id": "bec3e607-5458-4128-a71e-8ff5a004b1d4",
   "metadata": {},
   "source": [
    "### Q6.Which club has the most number of players?"
   ]
  },
  {
   "cell_type": "markdown",
   "id": "2ebe8a67-05a2-4916-be88-6949c5dbab88",
   "metadata": {},
   "source": [
    "#### INSIGHTS:<br> The analysis showed that there are 26 clubs with the highest number of players, with a head count of 33. However, this might be inaccurate since 241 rows were filled with the value 'Unknown' in the 'Club' column during data cleaning. These players may belong to other clubs, which is why the analysis may be inaccurate. "
   ]
  },
  {
   "cell_type": "markdown",
   "id": "844a25e4-ea9c-4f58-9ded-3a433a10344f",
   "metadata": {},
   "source": [
    "### Q7.Which foot is most preferred by the players?Draw a bar chart for preferred foot"
   ]
  },
  {
   "cell_type": "markdown",
   "id": "7687737c-c8d0-4483-a14b-68ca38922c37",
   "metadata": {},
   "source": [
    "#### INSIGHTS:<br> Approximately 77% of players prefer their right foot. Only a few (about 16%) are proficient with both feet(players with weak foot rating 4.0 and 5.0), and in football, being proficient with both feet can earn players higher salaries and keep them in demand."
   ]
  },
  {
   "cell_type": "code",
   "execution_count": 30,
   "id": "7c6f069f-9c05-413b-86a6-8a99eff19dd3",
   "metadata": {},
   "outputs": [
    {
     "data": {
      "image/png": "[encoded data removed]",
      "text/plain": [
       "<Figure size 600x300 with 1 Axes>"
      ]
     },
     "metadata": {},
     "output_type": "display_data"
    }
   ],
   "source": [
    "weak_foot = raw_df['Weak Foot'].value_counts()\n",
    "weak_foot.plot(kind='bar',figsize=(6,3))\n",
    "plt.title('Weak foot of players')\n",
    "plt.ylabel('Number of Players')\n",
    "for bar, value in enumerate(weak_foot):\n",
    "    plt.text(bar, value + 0.1, str(value), ha='center', va='center')\n",
    "plt.show()"
   ]
  }
 ],
 "metadata": {
  "kernelspec": {
   "display_name": "Python 3 (ipykernel)",
   "language": "python",
   "name": "python3"
  },
  "language_info": {
   "codemirror_mode": {
    "name": "ipython",
    "version": 3
   },
   "file_extension": ".py",
   "mimetype": "text/x-python",
   "name": "python",
   "nbconvert_exporter": "python",
   "pygments_lexer": "ipython3",
   "version": "3.12.3"
  }
 },
 "nbformat": 4,
 "nbformat_minor": 5
}
